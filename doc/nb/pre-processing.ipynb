{
 "cells": [
  {
   "cell_type": "code",
   "execution_count": 9,
   "metadata": {},
   "outputs": [],
   "source": [
    "import numpy as np\n",
    "import matplotlib.pyplot as plt\n",
    "import pandas as pd\n",
    "\n",
    "from numpy.linalg import inv\n",
    "\n",
    "from astropy.table import Table, Column, vstack, hstack, unique, SortedArray,SCEngine\n",
    "import astropy.units as u\n",
    "\n",
    "from astropy.io import fits, ascii \n",
    "\n",
    "import glob\n",
    "import os\n",
    "\n",
    "import numpy\n",
    "from scipy.signal import medfilt\n",
    "from scipy.interpolate import interp1d\n",
    "from numba import njit\n",
    "import tqdm\n",
    "from pandas import DataFrame \n"
   ]
  },
  {
   "cell_type": "code",
   "execution_count": 10,
   "metadata": {},
   "outputs": [],
   "source": [
    "# read in high S/N table \n",
    "# loop of over the rows \n",
    "# Night and Date to make spectra file name: PETAL_LOC, NIGHT, TILEID\n",
    "# load hdul\n",
    "# cut r camera, \"r_wavelength\" \n",
    "# Grab wavelength \n",
    "# Grab corresponding spectrum \n",
    "# FIBER #"
   ]
  },
  {
   "cell_type": "code",
   "execution_count": 11,
   "metadata": {},
   "outputs": [
    {
     "name": "stdout",
     "output_type": "stream",
     "text": [
      "[[       3    63075 20200305]\n",
      " [       1    63075 20200305]\n",
      " [       6    63075 20200305]\n",
      " ...\n",
      " [       7    63075 20200219]\n",
      " [       5    63159 20200314]\n",
      " [       8    63159 20200314]]\n"
     ]
    }
   ],
   "source": [
    "highSN = Table.read(\"/Volumes/GoogleDrive/My Drive/HighS_N.fits\")   # reads in table from previous code\n",
    "\n",
    "PETAL = (highSN['PETAL_LOC'].data)  # load each column as an array\n",
    "NIGHT = (highSN['NIGHT'].data)  # load each column as an array\n",
    "TILEID = (highSN['TILEID'].data)  # load each column as an array\n",
    "\n",
    "combined = np.vstack((PETAL, TILEID,NIGHT)).T  # combines each element of each array together \n",
    "print(combined)\n"
   ]
  },
  {
   "cell_type": "code",
   "execution_count": 12,
   "metadata": {},
   "outputs": [],
   "source": [
    "tileid = []  # creates an empty array\n",
    "for row in highSN:\n",
    "    file = str(row['PETAL_LOC']) + '-' + str(row['TILEID']) + '-' + str(row['NIGHT'])  # goes through each element of the array and grabs the wanted elements of each one. This then combines them in the right format \n",
    "    file_tileid = str(row['TILEID']) + '/' + str(row['NIGHT']) + '/coadd-' + file  # this grabs the necessary element of each array and combines them to make part of our path in the next cell\n",
    "    tileid.append(file_tileid)  # appends the file created above to them empty array\n",
    "#     print(file)"
   ]
  },
  {
   "cell_type": "code",
   "execution_count": 13,
   "metadata": {},
   "outputs": [],
   "source": [
    "file = ['/Volumes/GoogleDrive/My Drive/andes (1)/tiles/' + x +'.fits' for x in tileid]  # this combines all of the elements grabbed above to make a filepath\n"
   ]
  },
  {
   "cell_type": "code",
   "execution_count": 14,
   "metadata": {},
   "outputs": [],
   "source": [
    "# for x,y in zip(list1,list2):"
   ]
  },
  {
   "cell_type": "code",
   "execution_count": 15,
   "metadata": {},
   "outputs": [],
   "source": [
    "for i in range(2843,3843):\n",
    "\n",
    "    hdul = fits.open(file[i])  # opens the fit data that belongs to the i sub_file and gets the information from that file\n",
    "\n",
    "    r_wave = (hdul['R_WAVELENGTH'].data)  # Takes the chosen row of the hdul file\n",
    "    r_flux = (hdul['R_FLUX'].data)  # Takes the chosen row of the hdul file\n",
    "    r_ivar = (hdul['R_IVAR'].data)  # Takes the chosen row of the hdul file\n",
    "    \n",
    "    FIBER = (highSN['FIBER'].data)   # Takes the chosen row of the hdul file\n",
    "\n",
    "    fibermap = hdul['FIBERMAP'].data  # Takes the chosen row of the hdul file\n",
    "    fibers = fibermap['FIBER']   \n",
    "\n",
    "#     print(FIBER[i])     # prints each element of FIBER \n",
    "    index = (np.where(np.in1d(fibers, FIBER[i])))   # prints which index is where fibers and FIBER matches\n",
    "#     print(fibers[np.where(np.in1d(fibers, FIBER[i]))])  # plugs in the index to make sure this is where the number matches \n",
    "    index_ = list(index[0])  # converts the first element of the tuple created and converts it to a list.\n",
    "#     print(index_[0])  # prints the first element of the list \n",
    "    \n",
    "    \n",
    "    rflux = r_flux[index_[0],:]   # plugs in the index found above and finds the matching spectrum \n",
    "    rivar = r_ivar[index_[0],:]   # plugs in the index found above and finds the matching spectrum \n",
    "    rwave = r_wave\n",
    "    \n",
    "    np.savez('/Volumes/GoogleDrive/My Drive/rflux.npz', rflux = rflux, overwrite = True)   # saves the multiple arrays to one file \n",
    "    np.savez('/Volumes/GoogleDrive/My Drive/rivar.npz', rivar = rivar, overwrite = True)\n",
    "    np.savez('/Volumes/GoogleDrive/My Drive/rwave.npz', rwave = rwave, overwrite = True)\n",
    "    \n",
    "#     plt.title('Spectrum', fontsize = 15)  #  places a title and sets font size\n",
    "#     plt.xlabel('Wavelength', fontsize = 15)   # places a label on the x axis and sets font size \n",
    "#     plt.ylabel('$\\\\mathrm{flux\\\\,[10^{-17}\\\\, erg \\\\, cm^{-2} \\\\, s^{-1} \\\\, \\\\AA^{-1}] }$', fontsize = 15) # places a label on the y axis and sets font size\n",
    "\n",
    "#     plt.plot(r_wave, rflux)  # plots the lists we just created using a function from matplotlib.pyplot. This plots both the x and y lists.\n",
    "#     plt.show() "
   ]
  },
  {
   "cell_type": "code",
   "execution_count": null,
   "metadata": {},
   "outputs": [],
   "source": []
  }
 ],
 "metadata": {
  "kernelspec": {
   "display_name": "Python 3",
   "language": "python",
   "name": "python3"
  },
  "language_info": {
   "codemirror_mode": {
    "name": "ipython",
    "version": 3
   },
   "file_extension": ".py",
   "mimetype": "text/x-python",
   "name": "python",
   "nbconvert_exporter": "python",
   "pygments_lexer": "ipython3",
   "version": "3.7.6"
  }
 },
 "nbformat": 4,
 "nbformat_minor": 2
}
